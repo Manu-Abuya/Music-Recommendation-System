{
 "cells": [
  {
   "cell_type": "code",
   "execution_count": 2,
   "metadata": {},
   "outputs": [
    {
     "name": "stdout",
     "output_type": "stream",
     "text": [
      "Access token obtained successfully.\n"
     ]
    }
   ],
   "source": [
    "import pandas as pd\n",
    "import spotipy\n",
    "from spotipy.oauth2 import SpotifyOAuth\n",
    "\n",
    "import access_token"
   ]
  },
  {
   "cell_type": "markdown",
   "metadata": {},
   "source": [
    "Define a function responsible for collecting music data from a playlist."
   ]
  },
  {
   "cell_type": "code",
   "execution_count": 7,
   "metadata": {},
   "outputs": [],
   "source": [
    "# Read the access token from the file\n",
    "with open('access_token.txt', 'r') as f:\n",
    "    access_token = f.read().strip()"
   ]
  },
  {
   "cell_type": "code",
   "execution_count": 4,
   "metadata": {},
   "outputs": [],
   "source": [
    "def get_trending_playlist_data(playlist_id, access_token):\n",
    "    # playlist_id - ID of the Spotify playlist\n",
    "    # access_token - access token used to authenticate with the Spotify API\n",
    "    \n",
    "    # Set up Spotify with the access token to initialize a Spotify client\n",
    "    sp = spotipy.Spotify(auth=access_token)\n",
    "    \n",
    "    # Get the tracks from the playlist\n",
    "    playlist_tracks = sp.playlist_tracks(playlist_id, fields='items(track(id, name, artists, album(id, name)))')\n",
    "    \n",
    "    # Extract relevant information and store in a list of dictionaries\n",
    "    music_data = []\n",
    "    for track_info in playlist_tracks['items']:\n",
    "        track = track_info['track']\n",
    "        track_name = track['name']\n",
    "        artists = ', '.join([artist['name'] for artist in track['artists']])\n",
    "        album_name = track['album']['name']\n",
    "        album_id = track['album']['id']\n",
    "        track_id = track['id']\n",
    "\n",
    "        # Get audio features for the track\n",
    "        audio_features = sp.audio_features(track_id)[0] if track_id != 'Not available' else None\n",
    "\n",
    "        # Get release date of the album\n",
    "        try:\n",
    "            album_info = sp.album(album_id) if album_id != 'Not available' else None\n",
    "            release_date = album_info['release_date'] if album_info else None\n",
    "        except:\n",
    "            release_date = None\n",
    "\n",
    "        # Get popularity of the track\n",
    "        try:\n",
    "            track_info = sp.track(track_id) if track_id != 'Not available' else None\n",
    "            popularity = track_info['popularity'] if track_info else None\n",
    "        except:\n",
    "            popularity = None\n",
    "\n",
    "        # Add additional track information to the track data\n",
    "        track_data = {\n",
    "            'Track Name': track_name,\n",
    "            'Artists': artists,\n",
    "            'Album Name': album_name,\n",
    "            'Album ID': album_id,\n",
    "            'Track ID': track_id,\n",
    "            'Popularity': popularity,\n",
    "            'Release Date': release_date,\n",
    "            'Duration (ms)': audio_features['duration_ms'] if audio_features else None,\n",
    "            'Explicit': track_info.get('explicit', None),\n",
    "            'External URLs': track_info.get('external_urls', {}).get('spotify', None),\n",
    "            'Danceability': audio_features['danceability'] if audio_features else None,\n",
    "            'Energy': audio_features['energy'] if audio_features else None,\n",
    "            'Key': audio_features['key'] if audio_features else None,\n",
    "            'Loudness': audio_features['loudness'] if audio_features else None,\n",
    "            'Mode': audio_features['mode'] if audio_features else None,\n",
    "            'Speechiness': audio_features['speechiness'] if audio_features else None,\n",
    "            'Acousticness': audio_features['acousticness'] if audio_features else None,\n",
    "            'Instrumentalness': audio_features['instrumentalness'] if audio_features else None,\n",
    "            'Liveness': audio_features['liveness'] if audio_features else None,\n",
    "            'Valence': audio_features['valence'] if audio_features else None,\n",
    "            'Tempo': audio_features['tempo'] if audio_features else None,\n",
    "            # Add more attributes as needed\n",
    "        }\n",
    "\n",
    "        # Accumulate data for all tracks in the playlist\n",
    "        music_data.append(track_data)\n",
    "\n",
    "    # Create a pandas DataFrame from the list of dictionaries\n",
    "    df = pd.DataFrame(music_data)\n",
    "\n",
    "    return df\n",
    "    "
   ]
  },
  {
   "cell_type": "code",
   "execution_count": 8,
   "metadata": {},
   "outputs": [
    {
     "name": "stdout",
     "output_type": "stream",
     "text": [
      "                                           Track Name  \\\n",
      "0                   Paul & Silas (At Midnight) - Live   \n",
      "1                                          Live Again   \n",
      "2                           Mercy (feat. Chris Brown)   \n",
      "3                                         Do It Again   \n",
      "4                                 The Blessing (Live)   \n",
      "..                                                ...   \n",
      "95                                  Yek' Umus' Ongaka   \n",
      "96                        God you keep on blessing me   \n",
      "97                                      Walk With You   \n",
      "98  Jesus at the Center/All Hail King Jesus (feat....   \n",
      "99                                     He Shall Reign   \n",
      "\n",
      "                                              Artists  \\\n",
      "0                         Naomi Raine, Chandler Moore   \n",
      "1          ONE HOUSE, Kyle McHargh, Roosevelt Stewart   \n",
      "2   Elevation Worship, Maverick City Music, Chris ...   \n",
      "3                                   Elevation Worship   \n",
      "4           Elevation Worship, Kari Jobe, Cody Carnes   \n",
      "..                                                ...   \n",
      "95                                     Nqubeko Mbatha   \n",
      "96                       Brenden Praise, Free 2 Wrshp   \n",
      "97                                    Michael Bethany   \n",
      "98  Maverick City Music, Naomi Raine, Maryanne J. ...   \n",
      "99                         CalledOut Music, HFP Music   \n",
      "\n",
      "                            Album Name                Album ID  \\\n",
      "0   Cover The Earth (Live In New York)  0n1rSUSza9mlKU1g6xD9l9   \n",
      "1                           Live Again  7N1EAGw0mr5jFoZ1acuPap   \n",
      "2                  Old Church Basement  1lsf7hKaOd3r214nvwmtwg   \n",
      "3                     There Is a Cloud  5sbjJuC7SFAkTUCiQ8YbRB   \n",
      "4           Graves Into Gardens (Live)  3obyvHd0Ja2gZaPQMerTU6   \n",
      "..                                 ...                     ...   \n",
      "95                Forever I'll Worship  2Nb6oGM16E2tGpsuZxwXqF   \n",
      "96         God you keep on blessing me  7iLfFoM54IK3wBsg8mjbNo   \n",
      "97                       Walk With You  3PWXpbnKovOr89La5CvcCy   \n",
      "98             Maverick City Christmas  5OVyL7OCkeZ8UeIqhZbRyI   \n",
      "99                      He Shall Reign  4TTqJzfb7GKJy9VOz4GqpB   \n",
      "\n",
      "                  Track ID  Popularity Release Date  Duration (ms)  Explicit  \\\n",
      "0   2zy8o5anenikHeG4pFK4DZ          36   2023-06-02         628696     False   \n",
      "1   1K2dxpyTXiR5xcwo0ZrjBI          43   2023-03-10         522191     False   \n",
      "2   7pHDixs53icP6n2Yoi5mtD          54   2021-04-30         515233     False   \n",
      "3   3iOpiHDobxZO7S4p9Y2Fgu          65   2017-03-17         398333     False   \n",
      "4   5O306r2a9Nl7rm5ZlaTqka          65   2020-05-01         507307     False   \n",
      "..                     ...         ...          ...            ...       ...   \n",
      "95  2g2B5MTd5ujjensfE26Q7F          33   2013-07-24         135440     False   \n",
      "96  5NhDvLsCYZG4vFkFOFW9bA          23   2023-10-06         186973     False   \n",
      "97  6XFUYEgpExi8Ag9pfGqUmk          42   2022-02-25         382609     False   \n",
      "98  18UIPjv7Os0M8citPgr58K          37   2020-11-25         550253     False   \n",
      "99  1RV5mHAAko9d2oM7sAkjuf          30   2023-11-24         146614     False   \n",
      "\n",
      "                                        External URLs  ...  Energy  Key  \\\n",
      "0   https://open.spotify.com/track/2zy8o5anenikHeG...  ...   0.831    4   \n",
      "1   https://open.spotify.com/track/1K2dxpyTXiR5xcw...  ...   0.611    4   \n",
      "2   https://open.spotify.com/track/7pHDixs53icP6n2...  ...   0.489    9   \n",
      "3   https://open.spotify.com/track/3iOpiHDobxZO7S4...  ...   0.508   10   \n",
      "4   https://open.spotify.com/track/5O306r2a9Nl7rm5...  ...   0.583   11   \n",
      "..                                                ...  ...     ...  ...   \n",
      "95  https://open.spotify.com/track/2g2B5MTd5ujjens...  ...   0.651   11   \n",
      "96  https://open.spotify.com/track/5NhDvLsCYZG4vFk...  ...   0.212    8   \n",
      "97  https://open.spotify.com/track/6XFUYEgpExi8Ag9...  ...   0.589    7   \n",
      "98  https://open.spotify.com/track/18UIPjv7Os0M8ci...  ...   0.323    9   \n",
      "99  https://open.spotify.com/track/1RV5mHAAko9d2oM...  ...   0.698    7   \n",
      "\n",
      "    Loudness  Mode  Speechiness  Acousticness  Instrumentalness  Liveness  \\\n",
      "0     -5.857     1       0.0952        0.1150          0.000000    0.4010   \n",
      "1     -8.180     1       0.0457        0.0384          0.000000    0.1430   \n",
      "2     -8.318     1       0.0416        0.4770          0.000000    0.3240   \n",
      "3     -7.555     1       0.0297        0.0119          0.000000    0.5950   \n",
      "4     -7.994     1       0.0370        0.0383          0.000000    0.1160   \n",
      "..       ...   ...          ...           ...               ...       ...   \n",
      "95    -7.985     1       0.0449        0.4260          0.000000    0.1540   \n",
      "96   -12.275     1       0.0286        0.8220          0.000000    0.1320   \n",
      "97    -8.550     1       0.0372        0.4180          0.000000    0.2000   \n",
      "98    -7.934     1       0.0309        0.8700          0.000000    0.0916   \n",
      "99    -5.680     0       0.0440        0.0750          0.000041    0.0830   \n",
      "\n",
      "    Valence    Tempo  \n",
      "0     0.327  102.002  \n",
      "1     0.267   78.595  \n",
      "2     0.334  129.795  \n",
      "3     0.159  171.827  \n",
      "4     0.185  140.001  \n",
      "..      ...      ...  \n",
      "95    0.235  124.060  \n",
      "96    0.218   79.559  \n",
      "97    0.190  137.924  \n",
      "98    0.225  133.571  \n",
      "99    0.775   99.994  \n",
      "\n",
      "[100 rows x 21 columns]\n"
     ]
    }
   ],
   "source": [
    "playlist_id = '4vi25H3SpsJzMLLIbrBGA0'\n",
    "\n",
    "# Call the function to get the music data from the playlist and store it in a DataFrame\n",
    "music_df = get_trending_playlist_data(playlist_id, access_token)\n",
    "\n",
    "# Display the DataFrame\n",
    "print(music_df)"
   ]
  },
  {
   "cell_type": "code",
   "execution_count": 9,
   "metadata": {},
   "outputs": [
    {
     "name": "stdout",
     "output_type": "stream",
     "text": [
      "Track Name          0\n",
      "Artists             0\n",
      "Album Name          0\n",
      "Album ID            0\n",
      "Track ID            0\n",
      "Popularity          0\n",
      "Release Date        0\n",
      "Duration (ms)       0\n",
      "Explicit            0\n",
      "External URLs       0\n",
      "Danceability        0\n",
      "Energy              0\n",
      "Key                 0\n",
      "Loudness            0\n",
      "Mode                0\n",
      "Speechiness         0\n",
      "Acousticness        0\n",
      "Instrumentalness    0\n",
      "Liveness            0\n",
      "Valence             0\n",
      "Tempo               0\n",
      "dtype: int64\n"
     ]
    }
   ],
   "source": [
    "print(music_df.isnull().sum())"
   ]
  },
  {
   "cell_type": "markdown",
   "metadata": {},
   "source": [
    "Build the music recommendation system"
   ]
  },
  {
   "cell_type": "code",
   "execution_count": 10,
   "metadata": {},
   "outputs": [],
   "source": [
    "import pandas as pd \n",
    "import numpy as np\n",
    "from sklearn.model_selection import train_test_split\n",
    "from sklearn.preprocessing import MinMaxScaler\n",
    "from datetime import datetime\n",
    "from sklearn.metrics.pairwise import cosine_similarity"
   ]
  },
  {
   "cell_type": "code",
   "execution_count": 11,
   "metadata": {},
   "outputs": [],
   "source": [
    "data = music_df"
   ]
  },
  {
   "cell_type": "code",
   "execution_count": 12,
   "metadata": {},
   "outputs": [],
   "source": [
    "# Function to calculate weighted popularity scores based on release date\n",
    "def calculated_weighted_popularity(release_date):\n",
    "    # Convert release date to datetime object\n",
    "    release_date = datetime.strptime(release_date, '%Y-%m-%d')\n",
    "    \n",
    "    # Calculate the time span between release data and today's date\n",
    "    time_span = datetime.now() - release_date\n",
    "    \n",
    "    # Calculate the weighted popularity score based on time span\n",
    "    weight = 1 / (time_span.days + 1)\n",
    "    return weight"
   ]
  },
  {
   "cell_type": "markdown",
   "metadata": {},
   "source": [
    "- The function described above takes the release date of a music track in the format 'YYYY-MM-DD' and converts it into a datetime object using Python's datetime.strptime function. This conversion allows for date arithmetic. The function then calculates the time span between the track's release date and the current date (today) using datetime.now() - release_date, resulting in a timedate object that represents the difference between the two dates.\n",
    "\n",
    "- Next, the function computes a weighted popularity score based on this time span. The weight is calculated using the formula 1 / (time_span.days + 1). The time_span.days attribute provides the number of days between the release date and today. Adding 1 ensures the weight is never zero, preventing division by zero errors, even for very recent releases.\n",
    "\n",
    "- The idea behind this formula is that the weight decreases as the time span increases. Thus, recent releases receive a higher weight, while older releases receive a lower weight. This approach means that when combining this weighted popularity score with other factors in a recommendation system, newer tracks will have a more significant influence on the final recommendations, aligning with users' potential interest in the latest music."
   ]
  },
  {
   "cell_type": "markdown",
   "metadata": {},
   "source": [
    "Normalize music features"
   ]
  },
  {
   "cell_type": "code",
   "execution_count": 13,
   "metadata": {},
   "outputs": [],
   "source": [
    "# Normalize the music features using Min-Max scaling\n",
    "scaler = MinMaxScaler()\n",
    "music_features = music_df[['Danceability', 'Energy', 'Key', \n",
    "                           'Loudness', 'Mode', 'Speechiness', 'Acousticness',\n",
    "                           'Instrumentalness', 'Liveness', 'Valence', 'Tempo']].values\n",
    "\n",
    "music_features_scaled = scaler.fit_transform(music_features)"
   ]
  },
  {
   "cell_type": "markdown",
   "metadata": {},
   "source": [
    "Generate music recommendations based on the music audio features"
   ]
  },
  {
   "cell_type": "code",
   "execution_count": 14,
   "metadata": {},
   "outputs": [],
   "source": [
    "# A function to get content-based recommendations based on music features\n",
    "def content_based_recommendations(input_song_name, num_recommendations=5):\n",
    "    if input_song_name not in music_df['Track Name'].values:\n",
    "        print(f\"'{input_song_name}' not found in the dataset. Please enter a valid song name.\")\n",
    "        return\n",
    "    \n",
    "    # Get the index of the input song in the music DataFrame\n",
    "    input_song_index = music_df[music_df['Track Name'] == input_song_name].index[0]\n",
    "    \n",
    "    # Calculate the similarity scores based on music features (cosine similarity)\n",
    "    similarity_scores = cosine_similarity([music_features_scaled[input_song_index]], music_features_scaled)\n",
    "    \n",
    "    # Get the indices of the most similar songs and exclude the first element (which would be the input song itself, with a similarity score of 1)\n",
    "    similar_song_indices = similarity_scores.argsort()[0][::-1][1:num_recommendations + 1]\n",
    "    \n",
    "    # Get the names of the most similar songs based on the content-based filtering\n",
    "    content_based_recommendations = music_df.iloc[similar_song_indices][['Track Name', 'Artists', 'Album Name', 'Release Date', 'Popularity']]\n",
    "    \n",
    "    return content_based_recommendations"
   ]
  },
  {
   "cell_type": "markdown",
   "metadata": {},
   "source": [
    "- The function content_based_recommendations generates song recommendations based on the input song name. It first checks if the song exists in the music_df DataFrame, which contains music data including track names, artists, album names, release dates, and popularity. If the song is found, the function retrieves its index and compares its audio features with those of other songs using cosine similarity from scikit-learn.\n",
    "\n",
    "- It then identifies the top num_recommendations most similar songs by sorting the similarity scores in descending order and excluding the input song itself. Finally, it extracts and returns the details of these similar songs (track name, artists, album name, release date, and popularity) from music_df."
   ]
  },
  {
   "cell_type": "markdown",
   "metadata": {},
   "source": [
    "Function to generate music recommendations based on weighted popularity and combine it with the recommendations of the content-based filtering method"
   ]
  },
  {
   "cell_type": "code",
   "execution_count": null,
   "metadata": {},
   "outputs": [],
   "source": []
  }
 ],
 "metadata": {
  "kernelspec": {
   "display_name": "Python 3",
   "language": "python",
   "name": "python3"
  },
  "language_info": {
   "codemirror_mode": {
    "name": "ipython",
    "version": 3
   },
   "file_extension": ".py",
   "mimetype": "text/x-python",
   "name": "python",
   "nbconvert_exporter": "python",
   "pygments_lexer": "ipython3",
   "version": "3.12.3"
  }
 },
 "nbformat": 4,
 "nbformat_minor": 2
}
